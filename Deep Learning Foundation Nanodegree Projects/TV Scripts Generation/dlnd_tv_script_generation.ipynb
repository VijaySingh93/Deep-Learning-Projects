{
 "cells": [
  {
   "cell_type": "markdown",
   "metadata": {},
   "source": [
    "# TV Script Generation\n",
    "In this project, you'll generate your own [Simpsons](https://en.wikipedia.org/wiki/The_Simpsons) TV scripts using RNNs.  You'll be using part of the [Simpsons dataset](https://www.kaggle.com/wcukierski/the-simpsons-by-the-data) of scripts from 27 seasons.  The Neural Network you'll build will generate a new TV script for a scene at [Moe's Tavern](https://simpsonswiki.com/wiki/Moe's_Tavern).\n",
    "## Get the Data\n",
    "The data is already provided for you.  You'll be using a subset of the original dataset.  It consists of only the scenes in Moe's Tavern.  This doesn't include other versions of the tavern, like \"Moe's Cavern\", \"Flaming Moe's\", \"Uncle Moe's Family Feed-Bag\", etc.."
   ]
  },
  {
   "cell_type": "code",
   "execution_count": 1,
   "metadata": {
    "collapsed": true
   },
   "outputs": [],
   "source": [
    "\"\"\"\n",
    "DON'T MODIFY ANYTHING IN THIS CELL\n",
    "\"\"\"\n",
    "import helper\n",
    "\n",
    "data_dir = './data/simpsons/moes_tavern_lines.txt'\n",
    "text = helper.load_data(data_dir)\n",
    "# Ignore notice, since we don't use it for analysing the data\n",
    "text = text[81:]"
   ]
  },
  {
   "cell_type": "markdown",
   "metadata": {},
   "source": [
    "## Explore the Data\n",
    "Play around with `view_sentence_range` to view different parts of the data."
   ]
  },
  {
   "cell_type": "code",
   "execution_count": 2,
   "metadata": {},
   "outputs": [
    {
     "name": "stdout",
     "output_type": "stream",
     "text": [
      "Dataset Stats\n",
      "Roughly the number of unique words: 11492\n",
      "Number of scenes: 262\n",
      "Average number of sentences in each scene: 15.248091603053435\n",
      "Number of lines: 4257\n",
      "Average number of words in each line: 11.50434578341555\n",
      "\n",
      "The sentences 20 to 80:\n",
      "\n",
      "Moe_Szyslak: Looks like this is the end.\n",
      "Barney_Gumble: That's all right. I couldn't have led a richer life.\n",
      "Barney_Gumble: So the next time somebody tells you county folk are good, honest people, you can spit in their faces for me!\n",
      "Lisa_Simpson: I will, Mr. Gumbel. But if you'll excuse me, I'm profiling my dad for the school paper. I thought it would be neat to follow him around for a day to see what makes him tick.\n",
      "Barney_Gumble: Oh, that's sweet. I used to follow my dad to a lot of bars too. (BELCH)\n",
      "Moe_Szyslak: Here you go. One beer, one chocolate milk.\n",
      "Lisa_Simpson: Uh, excuse me, I have the chocolate milk.\n",
      "Moe_Szyslak: Oh.\n",
      "Moe_Szyslak: What's the matter, Homer? The depressin' effects of alcohol usually don't kick in 'til closing time.\n",
      "Lisa_Simpson: He's just a little nervous. (PROUDLY) He has to give a speech tomorrow on \"How To Keep Cool In A Crisis.\"\n",
      "Homer_Simpson: (SOBS) What am I gonna do? What am I gonna do?\n",
      "Barney_Gumble: Hey, I had to give a speech once. I was pretty nervous, so I used a little trick. I pictured everyone in their underwear. The judge, the jury, my lawyer, everybody.\n",
      "Homer_Simpson: Did it work?\n",
      "Barney_Gumble: I'm a free man, ain't I?\n",
      "Barney_Gumble: Whoa!\n",
      "Barney_Gumble: Huh? A pretzel? Wow, looks like I pulled a Homer!\n",
      "\n",
      "\n",
      "Patrons: (MUMBLING, NOT IN UNISON) Happy thoughts... happy thoughts... we love that boy.\n",
      "Moe_Szyslak: (INTO PHONE) Moe's Tavern. Hold on, I'll check. ... (LOUD) Hey everybody! I'm a stupid moron with an ugly face and a big butt, and my butt smells, and I like to kiss my own butt.\n",
      "Barney_Gumble: That's a new one (LAUGHING).\n",
      "Moe_Szyslak: Now wait a minute...\n",
      "\n",
      "\n",
      "Homer_Simpson: Hurry, Moe, hurry! I've only got five minutes till the music store closes.\n",
      "Moe_Szyslak: Why don't you go there first?\n",
      "Homer_Simpson: Hey, do I tell you how to do your job?\n",
      "Moe_Szyslak: Sorry, Homer.\n",
      "Homer_Simpson: You know, if you tip the glass, there won't be so much foam on top.\n",
      "Moe_Szyslak: Sorry, Homer.\n",
      "Homer_Simpson: (LOOKING AT WATCH) Ah. Finished with fifteen seconds to spare.\n",
      "Little_Man: (CONCERNED) What's the matter, buddy?\n",
      "Homer_Simpson: The moron next door closed early!\n",
      "Little_Man: (STIFFENING) I happen to be that moron.\n",
      "Homer_Simpson: Oh, me and my trenchant mouth.\n",
      "Homer_Simpson: Please, you've got to open that store.\n",
      "Little_Man: Let me think about it... Eh... No.\n",
      "Homer_Simpson: Okay, okay. But I want you to see a picture of the little girl you're disappointing. (GOES THROUGH HIS WALLET) Well I don't have one.\n",
      "Moe_Szyslak: (TO LITTLE MAN) Come on, Jer. Open up. Be a pal. Remember when I pulled you and your wife out of that burning car?\n",
      "Little_Man: (GRUDGINGLY) Okay. Okay. But now we're even. (TO HOMER) So what does your daughter need?\n",
      "Homer_Simpson: (SMOOTHLY) I'll have you know, I wrote it down.\n",
      "Homer_Simpson: Number Four and a half -- Stupid gum!\n",
      "Homer_Simpson: Number Four and a Half reed! Whoo hoo!\n",
      "Little_Man: Uh-huh. And what instrument does she play?\n",
      "Homer_Simpson: (SUNK) I dunno.\n",
      "\n",
      "\n",
      "Moe_Szyslak: (TO PATRONS) Figure of speech.\n",
      "Moe_Szyslak: Hiya, Homer. (SIGHS)\n",
      "Homer_Simpson: What's the matter, Moe?\n",
      "Moe_Szyslak: Ah, business is slow. People today are healthier and drinking less. You know, if it wasn't for the Junior High school next door no one would even use the cigarette machine.\n",
      "Homer_Simpson: (MOUTH FULL) Yeah, things are tough all over.\n",
      "Moe_Szyslak: Increased job satisfaction and family togetherness are poison for a purveyor of mind-numbing intoxicants like myself.\n",
      "Homer_Simpson: Could I get a beer?\n",
      "Moe_Szyslak: Uh, yeah, sure.\n",
      "Moe_Szyslak: Oh sorry, I forgot we're out of beer.\n",
      "Moe_Szyslak: Yeah, I know, I got behind on my beer payments. The distributor cut me off and I spent my last ten grand on the \"Love Tester\".\n",
      "Moe_Szyslak: You're too late, Homer. Barney sucked it dry. Cut his gums up pretty bad.\n",
      "Moe_Szyslak: Take it easy, Homer. I learned how to make other drinks at Bartender's School.\n"
     ]
    }
   ],
   "source": [
    "view_sentence_range = (20, 80)\n",
    "\n",
    "\"\"\"\n",
    "DON'T MODIFY ANYTHING IN THIS CELL\n",
    "\"\"\"\n",
    "import numpy as np\n",
    "\n",
    "print('Dataset Stats')\n",
    "print('Roughly the number of unique words: {}'.format(len({word: None for word in text.split()})))\n",
    "scenes = text.split('\\n\\n')\n",
    "print('Number of scenes: {}'.format(len(scenes)))\n",
    "sentence_count_scene = [scene.count('\\n') for scene in scenes]\n",
    "print('Average number of sentences in each scene: {}'.format(np.average(sentence_count_scene)))\n",
    "\n",
    "sentences = [sentence for scene in scenes for sentence in scene.split('\\n')]\n",
    "print('Number of lines: {}'.format(len(sentences)))\n",
    "word_count_sentence = [len(sentence.split()) for sentence in sentences]\n",
    "print('Average number of words in each line: {}'.format(np.average(word_count_sentence)))\n",
    "\n",
    "print()\n",
    "print('The sentences {} to {}:'.format(*view_sentence_range))\n",
    "print('\\n'.join(text.split('\\n')[view_sentence_range[0]:view_sentence_range[1]]))"
   ]
  },
  {
   "cell_type": "markdown",
   "metadata": {},
   "source": [
    "## Implement Preprocessing Functions\n",
    "The first thing to do to any dataset is preprocessing.  Implement the following preprocessing functions below:\n",
    "- Lookup Table\n",
    "- Tokenize Punctuation\n",
    "\n",
    "### Lookup Table\n",
    "To create a word embedding, you first need to transform the words to ids.  In this function, create two dictionaries:\n",
    "- Dictionary to go from the words to an id, we'll call `vocab_to_int`\n",
    "- Dictionary to go from the id to word, we'll call `int_to_vocab`\n",
    "\n",
    "Return these dictionaries in the following tuple `(vocab_to_int, int_to_vocab)`"
   ]
  },
  {
   "cell_type": "code",
   "execution_count": 3,
   "metadata": {},
   "outputs": [
    {
     "name": "stdout",
     "output_type": "stream",
     "text": [
      "Tests Passed\n"
     ]
    }
   ],
   "source": [
    "import numpy as np\n",
    "import problem_unittests as tests\n",
    "from collections import Counter\n",
    "\n",
    "def create_lookup_tables(text):\n",
    "    \"\"\"\n",
    "    Create lookup tables for vocabulary\n",
    "    :param text: The text of tv scripts split into words\n",
    "    :return: A tuple of dicts (vocab_to_int, int_to_vocab)\n",
    "    \"\"\"\n",
    "    # TODO: Implement Function\n",
    "    counts = Counter(text)\n",
    "    sorted_words = sorted(counts, key = counts.get, reverse = True)\n",
    "    vocab_to_int = {word: ii for ii, word in enumerate(sorted_words)}\n",
    "    int_to_vocab = {ii:word for word, ii in vocab_to_int.items()}\n",
    "    \n",
    "    return vocab_to_int, int_to_vocab\n",
    "\n",
    "\n",
    "\"\"\"\n",
    "DON'T MODIFY ANYTHING IN THIS CELL THAT IS BELOW THIS LINE\n",
    "\"\"\"\n",
    "tests.test_create_lookup_tables(create_lookup_tables)"
   ]
  },
  {
   "cell_type": "markdown",
   "metadata": {},
   "source": [
    "### Tokenize Punctuation\n",
    "We'll be splitting the script into a word array using spaces as delimiters.  However, punctuations like periods and exclamation marks make it hard for the neural network to distinguish between the word \"bye\" and \"bye!\".\n",
    "\n",
    "Implement the function `token_lookup` to return a dict that will be used to tokenize symbols like \"!\" into \"||Exclamation_Mark||\".  Create a dictionary for the following symbols where the symbol is the key and value is the token:\n",
    "- Period ( . )\n",
    "- Comma ( , )\n",
    "- Quotation Mark ( \" )\n",
    "- Semicolon ( ; )\n",
    "- Exclamation mark ( ! )\n",
    "- Question mark ( ? )\n",
    "- Left Parentheses ( ( )\n",
    "- Right Parentheses ( ) )\n",
    "- Dash ( -- )\n",
    "- Return ( \\n )\n",
    "\n",
    "This dictionary will be used to token the symbols and add the delimiter (space) around it.  This separates the symbols as it's own word, making it easier for the neural network to predict on the next word. Make sure you don't use a token that could be confused as a word. Instead of using the token \"dash\", try using something like \"||dash||\"."
   ]
  },
  {
   "cell_type": "code",
   "execution_count": 4,
   "metadata": {},
   "outputs": [
    {
     "name": "stdout",
     "output_type": "stream",
     "text": [
      "Tests Passed\n"
     ]
    }
   ],
   "source": [
    "def token_lookup():\n",
    "    \"\"\"\n",
    "    Generate a dict to turn punctuation into a token.\n",
    "    :return: Tokenize dictionary where the key is the punctuation and the value is the token\n",
    "    \"\"\"\n",
    "    # TODO: Implement Function\n",
    "    punc_dict = {}\n",
    "    punc_dict['.'] = '||period||'\n",
    "    punc_dict[','] = '||comma||'\n",
    "    punc_dict['\\\"'] = '||quotation_mark||'\n",
    "    punc_dict[';'] = '||semicolon||'\n",
    "    punc_dict['!'] = '||exclamation_mark||'\n",
    "    punc_dict['?'] = '||question_mark||'\n",
    "    punc_dict['('] = '||left_parentheses||'\n",
    "    punc_dict[')'] = '||right_parentheses||'\n",
    "    punc_dict['--'] = '||dash||'\n",
    "    punc_dict['\\n'] = '||return||'\n",
    "    \n",
    "    return punc_dict\n",
    "\n",
    "\"\"\"\n",
    "DON'T MODIFY ANYTHING IN THIS CELL THAT IS BELOW THIS LINE\n",
    "\"\"\"\n",
    "tests.test_tokenize(token_lookup)"
   ]
  },
  {
   "cell_type": "markdown",
   "metadata": {},
   "source": [
    "## Preprocess all the data and save it\n",
    "Running the code cell below will preprocess all the data and save it to file."
   ]
  },
  {
   "cell_type": "code",
   "execution_count": 5,
   "metadata": {
    "collapsed": true
   },
   "outputs": [],
   "source": [
    "\"\"\"\n",
    "DON'T MODIFY ANYTHING IN THIS CELL\n",
    "\"\"\"\n",
    "# Preprocess Training, Validation, and Testing Data\n",
    "helper.preprocess_and_save_data(data_dir, token_lookup, create_lookup_tables)"
   ]
  },
  {
   "cell_type": "markdown",
   "metadata": {},
   "source": [
    "# Check Point\n",
    "This is your first checkpoint. If you ever decide to come back to this notebook or have to restart the notebook, you can start from here. The preprocessed data has been saved to disk."
   ]
  },
  {
   "cell_type": "code",
   "execution_count": 6,
   "metadata": {
    "collapsed": true
   },
   "outputs": [],
   "source": [
    "\"\"\"\n",
    "DON'T MODIFY ANYTHING IN THIS CELL\n",
    "\"\"\"\n",
    "import helper\n",
    "import numpy as np\n",
    "import problem_unittests as tests\n",
    "\n",
    "int_text, vocab_to_int, int_to_vocab, token_dict = helper.load_preprocess()"
   ]
  },
  {
   "cell_type": "markdown",
   "metadata": {},
   "source": [
    "## Build the Neural Network\n",
    "You'll build the components necessary to build a RNN by implementing the following functions below:\n",
    "- get_inputs\n",
    "- get_init_cell\n",
    "- get_embed\n",
    "- build_rnn\n",
    "- build_nn\n",
    "- get_batches\n",
    "\n",
    "### Check the Version of TensorFlow and Access to GPU"
   ]
  },
  {
   "cell_type": "code",
   "execution_count": 7,
   "metadata": {},
   "outputs": [
    {
     "name": "stdout",
     "output_type": "stream",
     "text": [
      "TensorFlow Version: 1.1.0\n",
      "Default GPU Device: /gpu:0\n"
     ]
    }
   ],
   "source": [
    "\"\"\"\n",
    "DON'T MODIFY ANYTHING IN THIS CELL\n",
    "\"\"\"\n",
    "from distutils.version import LooseVersion\n",
    "import warnings\n",
    "import tensorflow as tf\n",
    "\n",
    "# Check TensorFlow Version\n",
    "assert LooseVersion(tf.__version__) >= LooseVersion('1.0'), 'Please use TensorFlow version 1.0 or newer'\n",
    "print('TensorFlow Version: {}'.format(tf.__version__))\n",
    "\n",
    "# Check for a GPU\n",
    "if not tf.test.gpu_device_name():\n",
    "    warnings.warn('No GPU found. Please use a GPU to train your neural network.')\n",
    "else:\n",
    "    print('Default GPU Device: {}'.format(tf.test.gpu_device_name()))"
   ]
  },
  {
   "cell_type": "markdown",
   "metadata": {},
   "source": [
    "### Input\n",
    "Implement the `get_inputs()` function to create TF Placeholders for the Neural Network.  It should create the following placeholders:\n",
    "- Input text placeholder named \"input\" using the [TF Placeholder](https://www.tensorflow.org/api_docs/python/tf/placeholder) `name` parameter.\n",
    "- Targets placeholder\n",
    "- Learning Rate placeholder\n",
    "\n",
    "Return the placeholders in the following tuple `(Input, Targets, LearningRate)`"
   ]
  },
  {
   "cell_type": "code",
   "execution_count": 8,
   "metadata": {},
   "outputs": [
    {
     "name": "stdout",
     "output_type": "stream",
     "text": [
      "Tests Passed\n"
     ]
    }
   ],
   "source": [
    "def get_inputs():\n",
    "    \"\"\"\n",
    "    Create TF Placeholders for input, targets, and learning rate.\n",
    "    :return: Tuple (input, targets, learning rate)\n",
    "    \"\"\"\n",
    "    # TODO: Implement Function\n",
    "    inputs = tf.placeholder(tf.int32, [None, None], name = 'input')\n",
    "    targets = tf.placeholder(tf.int32, [None, None], name = 'targets')\n",
    "    learning_rate = tf.placeholder(tf.float32, name = 'learning_rate')\n",
    "    \n",
    "    return inputs, targets, learning_rate\n",
    "\n",
    "\n",
    "\"\"\"\n",
    "DON'T MODIFY ANYTHING IN THIS CELL THAT IS BELOW THIS LINE\n",
    "\"\"\"\n",
    "tests.test_get_inputs(get_inputs)"
   ]
  },
  {
   "cell_type": "markdown",
   "metadata": {},
   "source": [
    "### Build RNN Cell and Initialize\n",
    "Stack one or more [`BasicLSTMCells`](https://www.tensorflow.org/api_docs/python/tf/contrib/rnn/BasicLSTMCell) in a [`MultiRNNCell`](https://www.tensorflow.org/api_docs/python/tf/contrib/rnn/MultiRNNCell).\n",
    "- The Rnn size should be set using `rnn_size`\n",
    "- Initalize Cell State using the MultiRNNCell's [`zero_state()`](https://www.tensorflow.org/api_docs/python/tf/contrib/rnn/MultiRNNCell#zero_state) function\n",
    "    - Apply the name \"initial_state\" to the initial state using [`tf.identity()`](https://www.tensorflow.org/api_docs/python/tf/identity)\n",
    "\n",
    "Return the cell and initial state in the following tuple `(Cell, InitialState)`"
   ]
  },
  {
   "cell_type": "code",
   "execution_count": 20,
   "metadata": {},
   "outputs": [
    {
     "name": "stdout",
     "output_type": "stream",
     "text": [
      "Tests Passed\n"
     ]
    }
   ],
   "source": [
    "def get_init_cell(batch_size, rnn_size):\n",
    "    \"\"\"\n",
    "    Create an RNN Cell and initialize it.\n",
    "    :param batch_size: Size of batches\n",
    "    :param rnn_size: Size of RNNs\n",
    "    :return: Tuple (cell, initialize state)\n",
    "    \"\"\"\n",
    "    # TODO: Implement Function\n",
    "    lstm = tf.contrib.rnn.BasicLSTMCell(rnn_size)\n",
    "    drop = tf.contrib.rnn.DropoutWrapper(lstm, output_keep_prob=0.9) # initial dropout 10%\n",
    "    cell = tf.contrib.rnn.MultiRNNCell([tf.contrib.rnn.BasicLSTMCell(rnn_size) for _ in range(2)]) # Using 2 layers of LSTM cells with dropout to prevent overfitting\n",
    "    initial_state = cell.zero_state(batch_size, tf.float32)\n",
    "    initial_state = tf.identity(initial_state, name='initial_state')\n",
    "    return cell, initial_state\n",
    "\n",
    "\n",
    "\"\"\"\n",
    "DON'T MODIFY ANYTHING IN THIS CELL THAT IS BELOW THIS LINE\n",
    "\"\"\"\n",
    "tests.test_get_init_cell(get_init_cell)"
   ]
  },
  {
   "cell_type": "markdown",
   "metadata": {},
   "source": [
    "### Word Embedding\n",
    "Apply embedding to `input_data` using TensorFlow.  Return the embedded sequence."
   ]
  },
  {
   "cell_type": "code",
   "execution_count": 10,
   "metadata": {},
   "outputs": [
    {
     "name": "stdout",
     "output_type": "stream",
     "text": [
      "Tests Passed\n"
     ]
    }
   ],
   "source": [
    "def get_embed(input_data, vocab_size, embed_dim):\n",
    "    \"\"\"\n",
    "    Create embedding for <input_data>.\n",
    "    :param input_data: TF placeholder for text input.\n",
    "    :param vocab_size: Number of words in vocabulary.\n",
    "    :param embed_dim: Number of embedding dimensions\n",
    "    :return: Embedded input.\n",
    "    \"\"\"\n",
    "    # TODO: Implement Function\n",
    "    embedding = tf.Variable(tf.random_uniform((vocab_size, embed_dim), -1, 1))\n",
    "    embed = tf.nn.embedding_lookup(embedding, input_data)\n",
    "    \n",
    "    return embed\n",
    "\n",
    "\n",
    "\"\"\"\n",
    "DON'T MODIFY ANYTHING IN THIS CELL THAT IS BELOW THIS LINE\n",
    "\"\"\"\n",
    "tests.test_get_embed(get_embed)"
   ]
  },
  {
   "cell_type": "markdown",
   "metadata": {},
   "source": [
    "### Build RNN\n",
    "You created a RNN Cell in the `get_init_cell()` function.  Time to use the cell to create a RNN.\n",
    "- Build the RNN using the [`tf.nn.dynamic_rnn()`](https://www.tensorflow.org/api_docs/python/tf/nn/dynamic_rnn)\n",
    " - Apply the name \"final_state\" to the final state using [`tf.identity()`](https://www.tensorflow.org/api_docs/python/tf/identity)\n",
    "\n",
    "Return the outputs and final_state state in the following tuple `(Outputs, FinalState)` "
   ]
  },
  {
   "cell_type": "code",
   "execution_count": 11,
   "metadata": {},
   "outputs": [
    {
     "name": "stdout",
     "output_type": "stream",
     "text": [
      "Tests Passed\n"
     ]
    }
   ],
   "source": [
    "def build_rnn(cell, inputs):\n",
    "    \"\"\"\n",
    "    Create a RNN using a RNN Cell\n",
    "    :param cell: RNN Cell\n",
    "    :param inputs: Input text data\n",
    "    :return: Tuple (Outputs, Final State)\n",
    "    \"\"\"\n",
    "    # TODO: Implement Function\n",
    "    outputs, final_state = tf.nn.dynamic_rnn(cell, inputs, dtype=tf.float32)\n",
    "    final_state = tf.identity(final_state, name='final_state')\n",
    "    \n",
    "    return outputs, final_state\n",
    "\n",
    "\n",
    "\n",
    "\"\"\"\n",
    "DON'T MODIFY ANYTHING IN THIS CELL THAT IS BELOW THIS LINE\n",
    "\"\"\"\n",
    "tests.test_build_rnn(build_rnn)"
   ]
  },
  {
   "cell_type": "markdown",
   "metadata": {},
   "source": [
    "### Build the Neural Network\n",
    "Apply the functions you implemented above to:\n",
    "- Apply embedding to `input_data` using your `get_embed(input_data, vocab_size, embed_dim)` function.\n",
    "- Build RNN using `cell` and your `build_rnn(cell, inputs)` function.\n",
    "- Apply a fully connected layer with a linear activation and `vocab_size` as the number of outputs.\n",
    "\n",
    "Return the logits and final state in the following tuple (Logits, FinalState) "
   ]
  },
  {
   "cell_type": "code",
   "execution_count": 12,
   "metadata": {},
   "outputs": [
    {
     "name": "stdout",
     "output_type": "stream",
     "text": [
      "Tests Passed\n"
     ]
    }
   ],
   "source": [
    "def build_nn(cell, rnn_size, input_data, vocab_size, embed_dim):\n",
    "    \"\"\"\n",
    "    Build part of the neural network\n",
    "    :param cell: RNN cell\n",
    "    :param rnn_size: Size of rnns\n",
    "    :param input_data: Input data\n",
    "    :param vocab_size: Vocabulary size\n",
    "    :param embed_dim: Number of embedding dimensions\n",
    "    :return: Tuple (Logits, FinalState)\n",
    "    \"\"\"\n",
    "    # TODO: Implement Function\n",
    "    inputs = get_embed(input_data, vocab_size, embed_dim)\n",
    "    outputs, final_state = build_rnn(cell, inputs)\n",
    "    logits = tf.contrib.layers.fully_connected(outputs, vocab_size, activation_fn=None)\n",
    "    return logits, final_state\n",
    "    \n",
    "\n",
    "\n",
    "\"\"\"\n",
    "DON'T MODIFY ANYTHING IN THIS CELL THAT IS BELOW THIS LINE\n",
    "\"\"\"\n",
    "tests.test_build_nn(build_nn)"
   ]
  },
  {
   "cell_type": "markdown",
   "metadata": {},
   "source": [
    "### Batches\n",
    "Implement `get_batches` to create batches of input and targets using `int_text`.  The batches should be a Numpy array with the shape `(number of batches, 2, batch size, sequence length)`. Each batch contains two elements:\n",
    "- The first element is a single batch of **input** with the shape `[batch size, sequence length]`\n",
    "- The second element is a single batch of **targets** with the shape `[batch size, sequence length]`\n",
    "\n",
    "If you can't fill the last batch with enough data, drop the last batch.\n",
    "\n",
    "For exmple, `get_batches([1, 2, 3, 4, 5, 6, 7, 8, 9, 10, 11, 12, 13, 14, 15, 16, 17, 18, 19, 20], 3, 2)` would return a Numpy array of the following:\n",
    "```\n",
    "[\n",
    "  # First Batch\n",
    "  [\n",
    "    # Batch of Input\n",
    "    [[ 1  2], [ 7  8], [13 14]]\n",
    "    # Batch of targets\n",
    "    [[ 2  3], [ 8  9], [14 15]]\n",
    "  ]\n",
    "\n",
    "  # Second Batch\n",
    "  [\n",
    "    # Batch of Input\n",
    "    [[ 3  4], [ 9 10], [15 16]]\n",
    "    # Batch of targets\n",
    "    [[ 4  5], [10 11], [16 17]]\n",
    "  ]\n",
    "\n",
    "  # Third Batch\n",
    "  [\n",
    "    # Batch of Input\n",
    "    [[ 5  6], [11 12], [17 18]]\n",
    "    # Batch of targets\n",
    "    [[ 6  7], [12 13], [18  1]]\n",
    "  ]\n",
    "]\n",
    "```\n",
    "\n",
    "Notice that the last target value in the last batch is the first input value of the first batch. In this case, `1`. This is a common technique used when creating sequence batches, although it is rather unintuitive."
   ]
  },
  {
   "cell_type": "code",
   "execution_count": 13,
   "metadata": {},
   "outputs": [
    {
     "name": "stdout",
     "output_type": "stream",
     "text": [
      "Tests Passed\n"
     ]
    }
   ],
   "source": [
    "def get_batches(int_text, batch_size, seq_length):\n",
    "    \"\"\"\n",
    "    Return batches of input and target\n",
    "    :param int_text: Text with the words replaced by their ids\n",
    "    :param batch_size: The size of batch\n",
    "    :param seq_length: The length of sequence\n",
    "    :return: Batches as a Numpy array\n",
    "    \"\"\"\n",
    "    # TODO: Implement Function\n",
    "    n_batches = int(len(int_text) / (batch_size * seq_length))\n",
    "\n",
    "    \n",
    "    xdata = np.array(int_text[: n_batches * batch_size * seq_length])\n",
    "    ydata = np.array(int_text[1: n_batches * batch_size * seq_length])\n",
    "    ydata = np.append(ydata, int_text[0])# Last target value as the first input value\n",
    "\n",
    "    x_batches = np.split(xdata.reshape(batch_size, -1), n_batches, 1)\n",
    "    y_batches = np.split(ydata.reshape(batch_size, -1), n_batches, 1)\n",
    "\n",
    "    \n",
    "    return np.array(list(zip(x_batches, y_batches)))\n",
    "\n",
    "\n",
    "\"\"\"\n",
    "DON'T MODIFY ANYTHING IN THIS CELL THAT IS BELOW THIS LINE\n",
    "\"\"\"\n",
    "tests.test_get_batches(get_batches)"
   ]
  },
  {
   "cell_type": "markdown",
   "metadata": {},
   "source": [
    "## Neural Network Training\n",
    "### Hyperparameters\n",
    "Tune the following parameters:\n",
    "\n",
    "- Set `num_epochs` to the number of epochs.\n",
    "- Set `batch_size` to the batch size.\n",
    "- Set `rnn_size` to the size of the RNNs.\n",
    "- Set `embed_dim` to the size of the embedding.\n",
    "- Set `seq_length` to the length of sequence.\n",
    "- Set `learning_rate` to the learning rate.\n",
    "- Set `show_every_n_batches` to the number of batches the neural network should print progress."
   ]
  },
  {
   "cell_type": "code",
   "execution_count": 31,
   "metadata": {
    "collapsed": true
   },
   "outputs": [],
   "source": [
    "# Number of Epochs\n",
    "num_epochs = 70\n",
    "# Batch Size\n",
    "batch_size = 128\n",
    "# RNN Size\n",
    "rnn_size = 512\n",
    "# Embedding Dimension Size\n",
    "embed_dim = 300\n",
    "# Sequence Length\n",
    "seq_length = 15\n",
    "# Learning Rate\n",
    "learning_rate = 0.01\n",
    "# Show stats for every n number of batches\n",
    "show_every_n_batches = 10\n",
    "\n",
    "\"\"\"\n",
    "DON'T MODIFY ANYTHING IN THIS CELL THAT IS BELOW THIS LINE\n",
    "\"\"\"\n",
    "save_dir = './save'"
   ]
  },
  {
   "cell_type": "markdown",
   "metadata": {},
   "source": [
    "### Build the Graph\n",
    "Build the graph using the neural network you implemented."
   ]
  },
  {
   "cell_type": "code",
   "execution_count": 27,
   "metadata": {},
   "outputs": [],
   "source": [
    "\"\"\"\n",
    "DON'T MODIFY ANYTHING IN THIS CELL\n",
    "\"\"\"\n",
    "from tensorflow.contrib import seq2seq\n",
    "\n",
    "train_graph = tf.Graph()\n",
    "with train_graph.as_default():\n",
    "    vocab_size = len(int_to_vocab)\n",
    "    input_text, targets, lr = get_inputs()\n",
    "    input_data_shape = tf.shape(input_text)\n",
    "    cell, initial_state = get_init_cell(input_data_shape[0], rnn_size)\n",
    "    logits, final_state = build_nn(cell, rnn_size, input_text, vocab_size, embed_dim)\n",
    "\n",
    "    # Probabilities for generating words\n",
    "    probs = tf.nn.softmax(logits, name='probs')\n",
    "\n",
    "    # Loss function\n",
    "    cost = seq2seq.sequence_loss(\n",
    "        logits,\n",
    "        targets,\n",
    "        tf.ones([input_data_shape[0], input_data_shape[1]]))\n",
    "\n",
    "    # Optimizer\n",
    "    optimizer = tf.train.AdamOptimizer(lr)\n",
    "\n",
    "    # Gradient Clipping\n",
    "    gradients = optimizer.compute_gradients(cost)\n",
    "    capped_gradients = [(tf.clip_by_value(grad, -1., 1.), var) for grad, var in gradients if grad is not None]\n",
    "    train_op = optimizer.apply_gradients(capped_gradients)"
   ]
  },
  {
   "cell_type": "markdown",
   "metadata": {},
   "source": [
    "## Train\n",
    "Train the neural network on the preprocessed data.  If you have a hard time getting a good loss, check the [forms](https://discussions.udacity.com/) to see if anyone is having the same problem."
   ]
  },
  {
   "cell_type": "code",
   "execution_count": 32,
   "metadata": {},
   "outputs": [
    {
     "name": "stdout",
     "output_type": "stream",
     "text": [
      "Epoch   0 Batch    0/35   train_loss = 8.821\n",
      "Epoch   0 Batch   10/35   train_loss = 6.842\n",
      "Epoch   0 Batch   20/35   train_loss = 6.267\n",
      "Epoch   0 Batch   30/35   train_loss = 5.947\n",
      "Epoch   1 Batch    5/35   train_loss = 5.658\n",
      "Epoch   1 Batch   15/35   train_loss = 5.553\n",
      "Epoch   1 Batch   25/35   train_loss = 5.221\n",
      "Epoch   2 Batch    0/35   train_loss = 5.151\n",
      "Epoch   2 Batch   10/35   train_loss = 5.245\n",
      "Epoch   2 Batch   20/35   train_loss = 5.056\n",
      "Epoch   2 Batch   30/35   train_loss = 4.972\n",
      "Epoch   3 Batch    5/35   train_loss = 4.849\n",
      "Epoch   3 Batch   15/35   train_loss = 4.874\n",
      "Epoch   3 Batch   25/35   train_loss = 4.682\n",
      "Epoch   4 Batch    0/35   train_loss = 4.782\n",
      "Epoch   4 Batch   10/35   train_loss = 4.740\n",
      "Epoch   4 Batch   20/35   train_loss = 4.611\n",
      "Epoch   4 Batch   30/35   train_loss = 4.528\n",
      "Epoch   5 Batch    5/35   train_loss = 4.515\n",
      "Epoch   5 Batch   15/35   train_loss = 4.524\n",
      "Epoch   5 Batch   25/35   train_loss = 4.339\n",
      "Epoch   6 Batch    0/35   train_loss = 4.423\n",
      "Epoch   6 Batch   10/35   train_loss = 4.442\n",
      "Epoch   6 Batch   20/35   train_loss = 4.290\n",
      "Epoch   6 Batch   30/35   train_loss = 4.252\n",
      "Epoch   7 Batch    5/35   train_loss = 4.188\n",
      "Epoch   7 Batch   15/35   train_loss = 4.138\n",
      "Epoch   7 Batch   25/35   train_loss = 4.071\n",
      "Epoch   8 Batch    0/35   train_loss = 4.085\n",
      "Epoch   8 Batch   10/35   train_loss = 4.098\n",
      "Epoch   8 Batch   20/35   train_loss = 3.879\n",
      "Epoch   8 Batch   30/35   train_loss = 3.954\n",
      "Epoch   9 Batch    5/35   train_loss = 3.900\n",
      "Epoch   9 Batch   15/35   train_loss = 3.954\n",
      "Epoch   9 Batch   25/35   train_loss = 3.665\n",
      "Epoch  10 Batch    0/35   train_loss = 3.804\n",
      "Epoch  10 Batch   10/35   train_loss = 3.884\n",
      "Epoch  10 Batch   20/35   train_loss = 3.686\n",
      "Epoch  10 Batch   30/35   train_loss = 3.620\n",
      "Epoch  11 Batch    5/35   train_loss = 3.630\n",
      "Epoch  11 Batch   15/35   train_loss = 3.583\n",
      "Epoch  11 Batch   25/35   train_loss = 3.438\n",
      "Epoch  12 Batch    0/35   train_loss = 3.465\n",
      "Epoch  12 Batch   10/35   train_loss = 3.457\n",
      "Epoch  12 Batch   20/35   train_loss = 3.324\n",
      "Epoch  12 Batch   30/35   train_loss = 3.365\n",
      "Epoch  13 Batch    5/35   train_loss = 3.357\n",
      "Epoch  13 Batch   15/35   train_loss = 3.214\n",
      "Epoch  13 Batch   25/35   train_loss = 3.137\n",
      "Epoch  14 Batch    0/35   train_loss = 3.190\n",
      "Epoch  14 Batch   10/35   train_loss = 3.220\n",
      "Epoch  14 Batch   20/35   train_loss = 2.964\n",
      "Epoch  14 Batch   30/35   train_loss = 2.984\n",
      "Epoch  15 Batch    5/35   train_loss = 2.942\n",
      "Epoch  15 Batch   15/35   train_loss = 2.809\n",
      "Epoch  15 Batch   25/35   train_loss = 2.764\n",
      "Epoch  16 Batch    0/35   train_loss = 2.803\n",
      "Epoch  16 Batch   10/35   train_loss = 2.862\n",
      "Epoch  16 Batch   20/35   train_loss = 2.615\n",
      "Epoch  16 Batch   30/35   train_loss = 2.626\n",
      "Epoch  17 Batch    5/35   train_loss = 2.731\n",
      "Epoch  17 Batch   15/35   train_loss = 2.475\n",
      "Epoch  17 Batch   25/35   train_loss = 2.498\n",
      "Epoch  18 Batch    0/35   train_loss = 2.529\n",
      "Epoch  18 Batch   10/35   train_loss = 2.511\n",
      "Epoch  18 Batch   20/35   train_loss = 2.309\n",
      "Epoch  18 Batch   30/35   train_loss = 2.349\n",
      "Epoch  19 Batch    5/35   train_loss = 2.258\n",
      "Epoch  19 Batch   15/35   train_loss = 2.186\n",
      "Epoch  19 Batch   25/35   train_loss = 2.160\n",
      "Epoch  20 Batch    0/35   train_loss = 2.198\n",
      "Epoch  20 Batch   10/35   train_loss = 2.102\n",
      "Epoch  20 Batch   20/35   train_loss = 1.988\n",
      "Epoch  20 Batch   30/35   train_loss = 1.948\n",
      "Epoch  21 Batch    5/35   train_loss = 1.930\n",
      "Epoch  21 Batch   15/35   train_loss = 1.826\n",
      "Epoch  21 Batch   25/35   train_loss = 1.849\n",
      "Epoch  22 Batch    0/35   train_loss = 1.912\n",
      "Epoch  22 Batch   10/35   train_loss = 1.836\n",
      "Epoch  22 Batch   20/35   train_loss = 1.641\n",
      "Epoch  22 Batch   30/35   train_loss = 1.733\n",
      "Epoch  23 Batch    5/35   train_loss = 1.660\n",
      "Epoch  23 Batch   15/35   train_loss = 1.507\n",
      "Epoch  23 Batch   25/35   train_loss = 1.543\n",
      "Epoch  24 Batch    0/35   train_loss = 1.569\n",
      "Epoch  24 Batch   10/35   train_loss = 1.560\n",
      "Epoch  24 Batch   20/35   train_loss = 1.326\n",
      "Epoch  24 Batch   30/35   train_loss = 1.502\n",
      "Epoch  25 Batch    5/35   train_loss = 1.384\n",
      "Epoch  25 Batch   15/35   train_loss = 1.352\n",
      "Epoch  25 Batch   25/35   train_loss = 1.287\n",
      "Epoch  26 Batch    0/35   train_loss = 1.347\n",
      "Epoch  26 Batch   10/35   train_loss = 1.335\n",
      "Epoch  26 Batch   20/35   train_loss = 1.190\n",
      "Epoch  26 Batch   30/35   train_loss = 1.240\n",
      "Epoch  27 Batch    5/35   train_loss = 1.168\n",
      "Epoch  27 Batch   15/35   train_loss = 1.112\n",
      "Epoch  27 Batch   25/35   train_loss = 1.125\n",
      "Epoch  28 Batch    0/35   train_loss = 1.187\n",
      "Epoch  28 Batch   10/35   train_loss = 1.141\n",
      "Epoch  28 Batch   20/35   train_loss = 1.004\n",
      "Epoch  28 Batch   30/35   train_loss = 1.077\n",
      "Epoch  29 Batch    5/35   train_loss = 1.054\n",
      "Epoch  29 Batch   15/35   train_loss = 0.984\n",
      "Epoch  29 Batch   25/35   train_loss = 0.982\n",
      "Epoch  30 Batch    0/35   train_loss = 1.006\n",
      "Epoch  30 Batch   10/35   train_loss = 0.977\n",
      "Epoch  30 Batch   20/35   train_loss = 0.850\n",
      "Epoch  30 Batch   30/35   train_loss = 0.936\n",
      "Epoch  31 Batch    5/35   train_loss = 0.864\n",
      "Epoch  31 Batch   15/35   train_loss = 0.843\n",
      "Epoch  31 Batch   25/35   train_loss = 0.851\n",
      "Epoch  32 Batch    0/35   train_loss = 0.881\n",
      "Epoch  32 Batch   10/35   train_loss = 0.847\n",
      "Epoch  32 Batch   20/35   train_loss = 0.745\n",
      "Epoch  32 Batch   30/35   train_loss = 0.805\n",
      "Epoch  33 Batch    5/35   train_loss = 0.740\n",
      "Epoch  33 Batch   15/35   train_loss = 0.739\n",
      "Epoch  33 Batch   25/35   train_loss = 0.740\n",
      "Epoch  34 Batch    0/35   train_loss = 0.746\n",
      "Epoch  34 Batch   10/35   train_loss = 0.702\n",
      "Epoch  34 Batch   20/35   train_loss = 0.640\n",
      "Epoch  34 Batch   30/35   train_loss = 0.686\n",
      "Epoch  35 Batch    5/35   train_loss = 0.590\n",
      "Epoch  35 Batch   15/35   train_loss = 0.599\n",
      "Epoch  35 Batch   25/35   train_loss = 0.598\n",
      "Epoch  36 Batch    0/35   train_loss = 0.621\n",
      "Epoch  36 Batch   10/35   train_loss = 0.561\n",
      "Epoch  36 Batch   20/35   train_loss = 0.510\n",
      "Epoch  36 Batch   30/35   train_loss = 0.546\n",
      "Epoch  37 Batch    5/35   train_loss = 0.488\n",
      "Epoch  37 Batch   15/35   train_loss = 0.497\n",
      "Epoch  37 Batch   25/35   train_loss = 0.469\n",
      "Epoch  38 Batch    0/35   train_loss = 0.522\n",
      "Epoch  38 Batch   10/35   train_loss = 0.473\n",
      "Epoch  38 Batch   20/35   train_loss = 0.407\n",
      "Epoch  38 Batch   30/35   train_loss = 0.457\n",
      "Epoch  39 Batch    5/35   train_loss = 0.412\n",
      "Epoch  39 Batch   15/35   train_loss = 0.426\n",
      "Epoch  39 Batch   25/35   train_loss = 0.384\n",
      "Epoch  40 Batch    0/35   train_loss = 0.442\n",
      "Epoch  40 Batch   10/35   train_loss = 0.397\n",
      "Epoch  40 Batch   20/35   train_loss = 0.347\n",
      "Epoch  40 Batch   30/35   train_loss = 0.384\n",
      "Epoch  41 Batch    5/35   train_loss = 0.364\n",
      "Epoch  41 Batch   15/35   train_loss = 0.365\n",
      "Epoch  41 Batch   25/35   train_loss = 0.327\n",
      "Epoch  42 Batch    0/35   train_loss = 0.378\n",
      "Epoch  42 Batch   10/35   train_loss = 0.349\n",
      "Epoch  42 Batch   20/35   train_loss = 0.299\n",
      "Epoch  42 Batch   30/35   train_loss = 0.325\n",
      "Epoch  43 Batch    5/35   train_loss = 0.323\n",
      "Epoch  43 Batch   15/35   train_loss = 0.321\n",
      "Epoch  43 Batch   25/35   train_loss = 0.285\n",
      "Epoch  44 Batch    0/35   train_loss = 0.320\n",
      "Epoch  44 Batch   10/35   train_loss = 0.307\n",
      "Epoch  44 Batch   20/35   train_loss = 0.259\n",
      "Epoch  44 Batch   30/35   train_loss = 0.293\n",
      "Epoch  45 Batch    5/35   train_loss = 0.280\n",
      "Epoch  45 Batch   15/35   train_loss = 0.289\n",
      "Epoch  45 Batch   25/35   train_loss = 0.255\n",
      "Epoch  46 Batch    0/35   train_loss = 0.286\n",
      "Epoch  46 Batch   10/35   train_loss = 0.269\n",
      "Epoch  46 Batch   20/35   train_loss = 0.241\n",
      "Epoch  46 Batch   30/35   train_loss = 0.265\n",
      "Epoch  47 Batch    5/35   train_loss = 0.262\n",
      "Epoch  47 Batch   15/35   train_loss = 0.270\n",
      "Epoch  47 Batch   25/35   train_loss = 0.239\n",
      "Epoch  48 Batch    0/35   train_loss = 0.262\n",
      "Epoch  48 Batch   10/35   train_loss = 0.255\n",
      "Epoch  48 Batch   20/35   train_loss = 0.226\n",
      "Epoch  48 Batch   30/35   train_loss = 0.251\n",
      "Epoch  49 Batch    5/35   train_loss = 0.251\n",
      "Epoch  49 Batch   15/35   train_loss = 0.262\n",
      "Epoch  49 Batch   25/35   train_loss = 0.234\n",
      "Epoch  50 Batch    0/35   train_loss = 0.254\n",
      "Epoch  50 Batch   10/35   train_loss = 0.246\n",
      "Epoch  50 Batch   20/35   train_loss = 0.219\n",
      "Epoch  50 Batch   30/35   train_loss = 0.240\n",
      "Epoch  51 Batch    5/35   train_loss = 0.242\n",
      "Epoch  51 Batch   15/35   train_loss = 0.254\n",
      "Epoch  51 Batch   25/35   train_loss = 0.229\n",
      "Epoch  52 Batch    0/35   train_loss = 0.248\n"
     ]
    },
    {
     "name": "stdout",
     "output_type": "stream",
     "text": [
      "Epoch  52 Batch   10/35   train_loss = 0.241\n",
      "Epoch  52 Batch   20/35   train_loss = 0.214\n",
      "Epoch  52 Batch   30/35   train_loss = 0.236\n",
      "Epoch  53 Batch    5/35   train_loss = 0.239\n",
      "Epoch  53 Batch   15/35   train_loss = 0.250\n",
      "Epoch  53 Batch   25/35   train_loss = 0.225\n",
      "Epoch  54 Batch    0/35   train_loss = 0.244\n",
      "Epoch  54 Batch   10/35   train_loss = 0.237\n",
      "Epoch  54 Batch   20/35   train_loss = 0.212\n",
      "Epoch  54 Batch   30/35   train_loss = 0.233\n",
      "Epoch  55 Batch    5/35   train_loss = 0.237\n",
      "Epoch  55 Batch   15/35   train_loss = 0.248\n",
      "Epoch  55 Batch   25/35   train_loss = 0.223\n",
      "Epoch  56 Batch    0/35   train_loss = 0.241\n",
      "Epoch  56 Batch   10/35   train_loss = 0.235\n",
      "Epoch  56 Batch   20/35   train_loss = 0.211\n",
      "Epoch  56 Batch   30/35   train_loss = 0.232\n",
      "Epoch  57 Batch    5/35   train_loss = 0.235\n",
      "Epoch  57 Batch   15/35   train_loss = 0.247\n",
      "Epoch  57 Batch   25/35   train_loss = 0.223\n",
      "Epoch  58 Batch    0/35   train_loss = 0.239\n",
      "Epoch  58 Batch   10/35   train_loss = 0.234\n",
      "Epoch  58 Batch   20/35   train_loss = 0.210\n",
      "Epoch  58 Batch   30/35   train_loss = 0.231\n",
      "Epoch  59 Batch    5/35   train_loss = 0.234\n",
      "Epoch  59 Batch   15/35   train_loss = 0.245\n",
      "Epoch  59 Batch   25/35   train_loss = 0.222\n",
      "Epoch  60 Batch    0/35   train_loss = 0.237\n",
      "Epoch  60 Batch   10/35   train_loss = 0.233\n",
      "Epoch  60 Batch   20/35   train_loss = 0.209\n",
      "Epoch  60 Batch   30/35   train_loss = 0.230\n",
      "Epoch  61 Batch    5/35   train_loss = 0.234\n",
      "Epoch  61 Batch   15/35   train_loss = 0.244\n",
      "Epoch  61 Batch   25/35   train_loss = 0.221\n",
      "Epoch  62 Batch    0/35   train_loss = 0.236\n",
      "Epoch  62 Batch   10/35   train_loss = 0.232\n",
      "Epoch  62 Batch   20/35   train_loss = 0.209\n",
      "Epoch  62 Batch   30/35   train_loss = 0.229\n",
      "Epoch  63 Batch    5/35   train_loss = 0.233\n",
      "Epoch  63 Batch   15/35   train_loss = 0.244\n",
      "Epoch  63 Batch   25/35   train_loss = 0.221\n",
      "Epoch  64 Batch    0/35   train_loss = 0.235\n",
      "Epoch  64 Batch   10/35   train_loss = 0.232\n",
      "Epoch  64 Batch   20/35   train_loss = 0.208\n",
      "Epoch  64 Batch   30/35   train_loss = 0.229\n",
      "Epoch  65 Batch    5/35   train_loss = 0.233\n",
      "Epoch  65 Batch   15/35   train_loss = 0.243\n",
      "Epoch  65 Batch   25/35   train_loss = 0.221\n",
      "Epoch  66 Batch    0/35   train_loss = 0.235\n",
      "Epoch  66 Batch   10/35   train_loss = 0.232\n",
      "Epoch  66 Batch   20/35   train_loss = 0.208\n",
      "Epoch  66 Batch   30/35   train_loss = 0.229\n",
      "Epoch  67 Batch    5/35   train_loss = 0.232\n",
      "Epoch  67 Batch   15/35   train_loss = 0.242\n",
      "Epoch  67 Batch   25/35   train_loss = 0.220\n",
      "Epoch  68 Batch    0/35   train_loss = 0.234\n",
      "Epoch  68 Batch   10/35   train_loss = 0.231\n",
      "Epoch  68 Batch   20/35   train_loss = 0.208\n",
      "Epoch  68 Batch   30/35   train_loss = 0.228\n",
      "Epoch  69 Batch    5/35   train_loss = 0.232\n",
      "Epoch  69 Batch   15/35   train_loss = 0.242\n",
      "Epoch  69 Batch   25/35   train_loss = 0.220\n",
      "Model Trained and Saved\n"
     ]
    }
   ],
   "source": [
    "\"\"\"\n",
    "DON'T MODIFY ANYTHING IN THIS CELL\n",
    "\"\"\"\n",
    "batches = get_batches(int_text, batch_size, seq_length)\n",
    "\n",
    "with tf.Session(graph=train_graph) as sess:\n",
    "    sess.run(tf.global_variables_initializer())\n",
    "\n",
    "    for epoch_i in range(num_epochs):\n",
    "        state = sess.run(initial_state, {input_text: batches[0][0]})\n",
    "\n",
    "        for batch_i, (x, y) in enumerate(batches):\n",
    "            feed = {\n",
    "                input_text: x,\n",
    "                targets: y,\n",
    "                initial_state: state,\n",
    "                lr: learning_rate}\n",
    "            train_loss, state, _ = sess.run([cost, final_state, train_op], feed)\n",
    "\n",
    "            # Show every <show_every_n_batches> batches\n",
    "            if (epoch_i * len(batches) + batch_i) % show_every_n_batches == 0:\n",
    "                print('Epoch {:>3} Batch {:>4}/{}   train_loss = {:.3f}'.format(\n",
    "                    epoch_i,\n",
    "                    batch_i,\n",
    "                    len(batches),\n",
    "                    train_loss))\n",
    "\n",
    "    # Save Model\n",
    "    saver = tf.train.Saver()\n",
    "    saver.save(sess, save_dir)\n",
    "    print('Model Trained and Saved')"
   ]
  },
  {
   "cell_type": "markdown",
   "metadata": {},
   "source": [
    "## Save Parameters\n",
    "Save `seq_length` and `save_dir` for generating a new TV script."
   ]
  },
  {
   "cell_type": "code",
   "execution_count": 33,
   "metadata": {
    "collapsed": true
   },
   "outputs": [],
   "source": [
    "\"\"\"\n",
    "DON'T MODIFY ANYTHING IN THIS CELL\n",
    "\"\"\"\n",
    "# Save parameters for checkpoint\n",
    "helper.save_params((seq_length, save_dir))"
   ]
  },
  {
   "cell_type": "markdown",
   "metadata": {},
   "source": [
    "# Checkpoint"
   ]
  },
  {
   "cell_type": "code",
   "execution_count": 34,
   "metadata": {
    "collapsed": true
   },
   "outputs": [],
   "source": [
    "\"\"\"\n",
    "DON'T MODIFY ANYTHING IN THIS CELL\n",
    "\"\"\"\n",
    "import tensorflow as tf\n",
    "import numpy as np\n",
    "import helper\n",
    "import problem_unittests as tests\n",
    "\n",
    "_, vocab_to_int, int_to_vocab, token_dict = helper.load_preprocess()\n",
    "seq_length, load_dir = helper.load_params()"
   ]
  },
  {
   "cell_type": "markdown",
   "metadata": {},
   "source": [
    "## Implement Generate Functions\n",
    "### Get Tensors\n",
    "Get tensors from `loaded_graph` using the function [`get_tensor_by_name()`](https://www.tensorflow.org/api_docs/python/tf/Graph#get_tensor_by_name).  Get the tensors using the following names:\n",
    "- \"input:0\"\n",
    "- \"initial_state:0\"\n",
    "- \"final_state:0\"\n",
    "- \"probs:0\"\n",
    "\n",
    "Return the tensors in the following tuple `(InputTensor, InitialStateTensor, FinalStateTensor, ProbsTensor)` "
   ]
  },
  {
   "cell_type": "code",
   "execution_count": 35,
   "metadata": {},
   "outputs": [
    {
     "name": "stdout",
     "output_type": "stream",
     "text": [
      "Tests Passed\n"
     ]
    }
   ],
   "source": [
    "def get_tensors(loaded_graph):\n",
    "    \"\"\"\n",
    "    Get input, initial state, final state, and probabilities tensor from <loaded_graph>\n",
    "    :param loaded_graph: TensorFlow graph loaded from file\n",
    "    :return: Tuple (InputTensor, InitialStateTensor, FinalStateTensor, ProbsTensor)\n",
    "    \"\"\"\n",
    "    # TODO: Implement Function\n",
    "    inputs = loaded_graph.get_tensor_by_name(\"input:0\")\n",
    "    initial_state = loaded_graph.get_tensor_by_name(\"initial_state:0\")\n",
    "    final_state = loaded_graph.get_tensor_by_name(\"final_state:0\")\n",
    "    probs = loaded_graph.get_tensor_by_name(\"probs:0\")\n",
    "    return inputs, initial_state, final_state, probs\n",
    "\n",
    "\n",
    "\"\"\"\n",
    "DON'T MODIFY ANYTHING IN THIS CELL THAT IS BELOW THIS LINE\n",
    "\"\"\"\n",
    "tests.test_get_tensors(get_tensors)"
   ]
  },
  {
   "cell_type": "markdown",
   "metadata": {},
   "source": [
    "### Choose Word\n",
    "Implement the `pick_word()` function to select the next word using `probabilities`."
   ]
  },
  {
   "cell_type": "code",
   "execution_count": 36,
   "metadata": {},
   "outputs": [
    {
     "name": "stdout",
     "output_type": "stream",
     "text": [
      "Tests Passed\n"
     ]
    }
   ],
   "source": [
    "def pick_word(probabilities, int_to_vocab):\n",
    "    \"\"\"\n",
    "    Pick the next word in the generated text\n",
    "    :param probabilities: Probabilites of the next word\n",
    "    :param int_to_vocab: Dictionary of word ids as the keys and words as the values\n",
    "    :return: String of the predicted word\n",
    "    \"\"\"\n",
    "    # TODO: Implement Function\n",
    "    i = np.random.choice(np.arange(len(int_to_vocab)), p=probabilities)\n",
    "    return int_to_vocab[i]\n",
    "\n",
    "\n",
    "\"\"\"\n",
    "DON'T MODIFY ANYTHING IN THIS CELL THAT IS BELOW THIS LINE\n",
    "\"\"\"\n",
    "tests.test_pick_word(pick_word)"
   ]
  },
  {
   "cell_type": "markdown",
   "metadata": {},
   "source": [
    "## Generate TV Script\n",
    "This will generate the TV script for you.  Set `gen_length` to the length of TV script you want to generate."
   ]
  },
  {
   "cell_type": "code",
   "execution_count": 37,
   "metadata": {},
   "outputs": [
    {
     "name": "stdout",
     "output_type": "stream",
     "text": [
      "INFO:tensorflow:Restoring parameters from ./save\n",
      "moe_szyslak: minimum wage and tips.(meaningfully) of course there are fringe benefits.\n",
      "moe_szyslak: homer, ah, this is the game...\n",
      "barney_gumble: what a stupid, homer?\n",
      "lenny_leonard: be sure.\n",
      "\n",
      "\n",
      "moe_szyslak: yeah.(panicky) delete! shall you left one of mine will be big changes.\n",
      "homer_simpson: hey, homer.\n",
      "moe_szyslak: looks like this is the ugly guy. i'll even have a quick one.\n",
      "homer_simpson: it's him! and he had thirty changed, and people should take a boxing years.\n",
      "moe_szyslak: ah, hey, boy. i never seen but can do without a wangs for this is.\n",
      "homer_simpson:(backing away) no, uh... uh, if somethin' loves you. what's my good for you're lying home.\n",
      "barney_gumble: oh, where didn't you... god, you want to see the last club or / this guy cleaned up the what?\n",
      "moe_szyslak: sorry you a beer, moe.\n",
      "homer_simpson: to smithers, with those two name the\n"
     ]
    }
   ],
   "source": [
    "gen_length = 200\n",
    "# homer_simpson, moe_szyslak, or Barney_Gumble\n",
    "prime_word = 'moe_szyslak'\n",
    "\n",
    "\"\"\"\n",
    "DON'T MODIFY ANYTHING IN THIS CELL THAT IS BELOW THIS LINE\n",
    "\"\"\"\n",
    "loaded_graph = tf.Graph()\n",
    "with tf.Session(graph=loaded_graph) as sess:\n",
    "    # Load saved model\n",
    "    loader = tf.train.import_meta_graph(load_dir + '.meta')\n",
    "    loader.restore(sess, load_dir)\n",
    "\n",
    "    # Get Tensors from loaded model\n",
    "    input_text, initial_state, final_state, probs = get_tensors(loaded_graph)\n",
    "\n",
    "    # Sentences generation setup\n",
    "    gen_sentences = [prime_word + ':']\n",
    "    prev_state = sess.run(initial_state, {input_text: np.array([[1]])})\n",
    "\n",
    "    # Generate sentences\n",
    "    for n in range(gen_length):\n",
    "        # Dynamic Input\n",
    "        dyn_input = [[vocab_to_int[word] for word in gen_sentences[-seq_length:]]]\n",
    "        dyn_seq_length = len(dyn_input[0])\n",
    "\n",
    "        # Get Prediction\n",
    "        probabilities, prev_state = sess.run(\n",
    "            [probs, final_state],\n",
    "            {input_text: dyn_input, initial_state: prev_state})\n",
    "        \n",
    "        pred_word = pick_word(probabilities[dyn_seq_length-1], int_to_vocab)\n",
    "\n",
    "        gen_sentences.append(pred_word)\n",
    "    \n",
    "    # Remove tokens\n",
    "    tv_script = ' '.join(gen_sentences)\n",
    "    for key, token in token_dict.items():\n",
    "        ending = ' ' if key in ['\\n', '(', '\"'] else ''\n",
    "        tv_script = tv_script.replace(' ' + token.lower(), key)\n",
    "    tv_script = tv_script.replace('\\n ', '\\n')\n",
    "    tv_script = tv_script.replace('( ', '(')\n",
    "        \n",
    "    print(tv_script)"
   ]
  },
  {
   "cell_type": "markdown",
   "metadata": {},
   "source": [
    "# The TV Script is Nonsensical\n",
    "It's ok if the TV script doesn't make any sense.  We trained on less than a megabyte of text.  In order to get good results, you'll have to use a smaller vocabulary or get more data.  Luckly there's more data!  As we mentioned in the begging of this project, this is a subset of [another dataset](https://www.kaggle.com/wcukierski/the-simpsons-by-the-data).  We didn't have you train on all the data, because that would take too long.  However, you are free to train your neural network on all the data.  After you complete the project, of course.\n",
    "# Submitting This Project\n",
    "When submitting this project, make sure to run all the cells before saving the notebook. Save the notebook file as \"dlnd_tv_script_generation.ipynb\" and save it as a HTML file under \"File\" -> \"Download as\". Include the \"helper.py\" and \"problem_unittests.py\" files in your submission."
   ]
  }
 ],
 "metadata": {
  "kernelspec": {
   "display_name": "Python 3",
   "language": "python",
   "name": "python3"
  },
  "language_info": {
   "codemirror_mode": {
    "name": "ipython",
    "version": 3
   },
   "file_extension": ".py",
   "mimetype": "text/x-python",
   "name": "python",
   "nbconvert_exporter": "python",
   "pygments_lexer": "ipython3",
   "version": "3.5.3"
  },
  "widgets": {
   "state": {},
   "version": "1.1.2"
  }
 },
 "nbformat": 4,
 "nbformat_minor": 1
}
